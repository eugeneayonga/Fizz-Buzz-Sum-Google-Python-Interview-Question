{
 "cells": [
  {
   "cell_type": "code",
   "execution_count": 3,
   "metadata": {},
   "outputs": [
    {
     "name": "stdout",
     "output_type": "stream",
     "text": [
      "23\n",
      "78\n"
     ]
    }
   ],
   "source": [
    "\"\"\"Fizz Buzz Sum [Google Python Interview Question]\n",
    "\n",
    "Write a function fizz_buzz_sum to find the sum of all multiples of 3 or 5 below a target value.\n",
    "\n",
    "For example, if the target value was 10, the multiples of 3 or 5 below 8 are 3, 5, 6, and 9.\n",
    "\n",
    "Because 3 + 5 + 6 + 9 = 23, our function would return 23.\n",
    "\n",
    "\"\"\"\n",
    "\n",
    "\n",
    "# Function Definition\n",
    "def fizz_buzz_sum(target):\n",
    "  \n",
    "    if isinstance(target, int): # Checking if input target is an integer\n",
    "\n",
    "        sum = 0 # Initializing sum variable\n",
    "\n",
    "        # Looping through\n",
    "        for _ in range(target):\n",
    "            if _ % 3 == 0 or _ % 5 == 0:\n",
    "                sum += _\n",
    "        return sum\n",
    "    else:\n",
    "        return \"Invalid Input\"\n",
    "    \n",
    "\n",
    "# Call function\n",
    "print(fizz_buzz_sum(10))\n",
    "print(fizz_buzz_sum(20))"
   ]
  }
 ],
 "metadata": {
  "kernelspec": {
   "display_name": "Python 3",
   "language": "python",
   "name": "python3"
  },
  "language_info": {
   "codemirror_mode": {
    "name": "ipython",
    "version": 3
   },
   "file_extension": ".py",
   "mimetype": "text/x-python",
   "name": "python",
   "nbconvert_exporter": "python",
   "pygments_lexer": "ipython3",
   "version": "3.9.6"
  }
 },
 "nbformat": 4,
 "nbformat_minor": 2
}
